{
 "cells": [
  {
   "cell_type": "code",
   "source": [
    "import matplotlib.pyplot as plt\n",
    "import seaborn as sns\n",
    "import pandas as pd\n",
    "\n",
    "from sklearn.metrics import accuracy_score, confusion_matrix, ConfusionMatrixDisplay\n",
    "\n",
    "from naive_bayes import NaiveBayes"
   ],
   "metadata": {
    "collapsed": false,
    "ExecuteTime": {
     "end_time": "2024-06-10T14:41:30.755271Z",
     "start_time": "2024-06-10T14:41:30.670605Z"
    }
   },
   "id": "6f1fe01788c6c8a6",
   "execution_count": 1,
   "outputs": []
  },
  {
   "cell_type": "markdown",
   "source": [
    "# Preprocessing"
   ],
   "metadata": {
    "collapsed": false
   },
   "id": "377aae3f74ed010b"
  },
  {
   "cell_type": "code",
   "source": [
    "train, test = pd.read_csv('train.csv'), pd.read_csv('test.csv')\n",
    "df = pd.concat([train, test])\n",
    "\n",
    "# Zmiana wieku z cechy numerycznej na kategoryczną\n",
    "bins = [0, 20, 40, 60, float('inf')]\n",
    "labels = [0, 1, 2, 3]\n",
    "df['Age'] = pd.cut(df['Age'], bins=bins, labels=labels, right=False)\n",
    "\n",
    "# Mapowanie nazw płci na wartości 0 - mężczyzna, 1 - kokbieta \n",
    "df['SexFactorized'] = pd.factorize(df['Sex'])[0]\n",
    "\n",
    "# Mapowanie cechy Embarked na wartosci numeryczne\n",
    "df['EmbarkedFactorize'] = pd.factorize(df['Embarked'])[0]\n",
    "\n",
    "# Wybór 5 cech na podstawie których trenowany będzie klasyfikator\n",
    "final_df = df[['Survived', 'Pclass', 'SexFactorized', 'Age', 'Parch', 'EmbarkedFactorize']]\n",
    "\n",
    "# Podział na zbiór treningowy i testowy\n",
    "train, test = final_df[:len(train)], final_df[len(train):]\n",
    "split = int(0.8 * len(train))\n",
    "train, validation = train[:split], train[split:]\n",
    "\n",
    "X_train, y_train = train.drop(columns=['Survived']).values, train['Survived'].values\n",
    "X_val, y_val = validation.drop(columns=['Survived']).values, validation['Survived'].values\n",
    "\n",
    "print('Train set size: ', len(X_train))\n",
    "print('Validation set size: ', len(X_val))"
   ],
   "metadata": {
    "collapsed": false,
    "ExecuteTime": {
     "end_time": "2024-06-10T14:41:30.773955Z",
     "start_time": "2024-06-10T14:41:30.755568Z"
    }
   },
   "id": "e33ffc5b426d357c",
   "execution_count": 2,
   "outputs": []
  },
  {
   "cell_type": "markdown",
   "source": [
    "# Trenowanie klasyfikatora"
   ],
   "metadata": {
    "collapsed": false
   },
   "id": "eb3244c7d11b9341"
  },
  {
   "cell_type": "code",
   "source": [
    "nb = NaiveBayes()\n",
    "nb.fit(X_train, y_train)"
   ],
   "metadata": {
    "collapsed": false,
    "ExecuteTime": {
     "end_time": "2024-06-10T14:41:30.777978Z",
     "start_time": "2024-06-10T14:41:30.774948Z"
    }
   },
   "id": "c9560b4a49e5a31b",
   "execution_count": 3,
   "outputs": []
  },
  {
   "cell_type": "markdown",
   "source": [
    "## Rezultat na zbiorze treningowym"
   ],
   "metadata": {
    "collapsed": false
   },
   "id": "ea5c63a07e3fd221"
  },
  {
   "cell_type": "code",
   "source": [
    "y_pred = nb.predict(X_train)\n",
    "\n",
    "accuracy = accuracy_score(y_train, y_pred)\n",
    "print(f'Accuracy: {accuracy * 100:.2f}%')\n",
    "\n",
    "cm = confusion_matrix(y_train, y_pred)\n",
    "disp = ConfusionMatrixDisplay(confusion_matrix=cm, display_labels=['survived', 'dead'])\n",
    "disp.plot(cmap=plt.cm.Blues)\n",
    "plt.show()"
   ],
   "metadata": {
    "collapsed": false,
    "ExecuteTime": {
     "end_time": "2024-06-10T14:41:30.926427Z",
     "start_time": "2024-06-10T14:41:30.777978Z"
    }
   },
   "id": "8fa8a24741b893f9",
   "execution_count": 4,
   "outputs": []
  },
  {
   "cell_type": "markdown",
   "source": [
    "## Rezultat na zbiorze testowym"
   ],
   "metadata": {
    "collapsed": false
   },
   "id": "e8512a3cb9bd5be4"
  },
  {
   "cell_type": "code",
   "source": [
    "y_pred = nb.predict(X_val)\n",
    "\n",
    "accuracy = accuracy_score(y_val, y_pred)\n",
    "print(f'Accuracy: {accuracy * 100:.2f}%')\n",
    "\n",
    "cm = confusion_matrix(y_val, y_pred)\n",
    "disp = ConfusionMatrixDisplay(confusion_matrix=cm, display_labels=['survived', 'dead'])\n",
    "disp.plot(cmap=plt.cm.Blues)\n",
    "plt.show()"
   ],
   "metadata": {
    "collapsed": false,
    "ExecuteTime": {
     "end_time": "2024-06-10T14:41:31.045188Z",
     "start_time": "2024-06-10T14:41:30.927422Z"
    }
   },
   "id": "7bfcfb9f1194e4bf",
   "execution_count": 5,
   "outputs": []
  },
  {
   "cell_type": "markdown",
   "source": [
    "### W celu oceny jakości klasyfikatora odseparowalśmy od zbioru treningowego zbiór walidacyjny, na obu zbiorach klasyfikator osiąga dokładność rzędu ~80%, w związku z czym można wywnioskować że nie występuje ani przeuczenie, ani niedouczenie, klasyfikator jest wytrenowany optymalnie dla podanego zbioru cech."
   ],
   "metadata": {
    "collapsed": false
   },
   "id": "9dde3ab87b00eaae"
  },
  {
   "cell_type": "markdown",
   "source": [
    "## Prawdopodobieństwo przżycia osoby pod warnukiem że:"
   ],
   "metadata": {
    "collapsed": false
   },
   "id": "dc5810f94d76cd3e"
  },
  {
   "cell_type": "code",
   "source": [
    "survival_prob = final_df['Survived'].sum() / len(final_df)\n",
    "print(f'Prawdopodobieństow przeżycia: {round(survival_prob, 2)}')"
   ],
   "metadata": {
    "collapsed": false,
    "ExecuteTime": {
     "end_time": "2024-06-10T14:41:31.049028Z",
     "start_time": "2024-06-10T14:41:31.046174Z"
    }
   },
   "id": "b1a2f3e5f5e7ebcd",
   "execution_count": 6,
   "outputs": []
  },
  {
   "cell_type": "markdown",
   "source": [
    "### A) Była mężczyzną"
   ],
   "metadata": {
    "collapsed": false
   },
   "id": "aa338bc65e311c78"
  },
  {
   "cell_type": "code",
   "source": [
    "prob_con = len(final_df.loc[(df['SexFactorized'] == 0) & (df['Survived'] == 1)]) / len(final_df)\n",
    "prob = prob_con / survival_prob\n",
    "print(f'Prawdopodobieństwo: {prob}')"
   ],
   "metadata": {
    "collapsed": false,
    "ExecuteTime": {
     "end_time": "2024-06-10T14:41:31.054341Z",
     "start_time": "2024-06-10T14:41:31.050020Z"
    }
   },
   "id": "ede27fbb5ff70c8f",
   "execution_count": 7,
   "outputs": []
  },
  {
   "cell_type": "markdown",
   "source": [
    "### B) Była kobietą"
   ],
   "metadata": {
    "collapsed": false
   },
   "id": "4a1bf1cb411d7141"
  },
  {
   "cell_type": "code",
   "source": [
    "prob_con = len(final_df.loc[(df['SexFactorized'] == 1) & (df['Survived'] == 1)]) / len(final_df)\n",
    "prob = prob_con / survival_prob\n",
    "print(f'Prawdopodobieństwo: {prob}')"
   ],
   "metadata": {
    "collapsed": false,
    "ExecuteTime": {
     "end_time": "2024-06-10T14:41:31.059084Z",
     "start_time": "2024-06-10T14:41:31.054341Z"
    }
   },
   "id": "a90287b5e6e53c0b",
   "execution_count": 8,
   "outputs": []
  },
  {
   "cell_type": "markdown",
   "source": [
    "### C) Była chłopcem"
   ],
   "metadata": {
    "collapsed": false
   },
   "id": "95e022d76b2021b9"
  },
  {
   "cell_type": "code",
   "source": [
    "prob_con = len(final_df.loc[(df['SexFactorized'] == 0) & (df['Survived'] == 1) & (df['Age'] == 0)]) / len(final_df)\n",
    "prob = prob_con / survival_prob\n",
    "print(f'Prawdopodobieństwo: {prob}')"
   ],
   "metadata": {
    "collapsed": false,
    "ExecuteTime": {
     "end_time": "2024-06-10T14:41:31.063969Z",
     "start_time": "2024-06-10T14:41:31.060077Z"
    }
   },
   "id": "6adc3ddec76f765c",
   "execution_count": 9,
   "outputs": []
  },
  {
   "cell_type": "markdown",
   "source": [
    "### D) Była dziewczynką"
   ],
   "metadata": {
    "collapsed": false
   },
   "id": "60533bb9b84cb29d"
  },
  {
   "cell_type": "code",
   "source": [
    "prob_con = len(final_df.loc[(df['SexFactorized'] == 1) & (df['Survived'] == 1) & (df['Age'] == 0)]) / len(final_df)\n",
    "prob = prob_con / survival_prob\n",
    "print(f'Prawdopodobieństwo: {prob}')"
   ],
   "metadata": {
    "collapsed": false,
    "ExecuteTime": {
     "end_time": "2024-06-10T14:41:31.068999Z",
     "start_time": "2024-06-10T14:41:31.063969Z"
    }
   },
   "id": "59cd2c8ce13c206b",
   "execution_count": 10,
   "outputs": []
  },
  {
   "cell_type": "code",
   "source": [],
   "metadata": {
    "collapsed": false,
    "ExecuteTime": {
     "end_time": "2024-06-10T14:41:31.071993Z",
     "start_time": "2024-06-10T14:41:31.069993Z"
    }
   },
   "id": "81e4e826402b52a6",
   "execution_count": 10,
   "outputs": []
  }
 ],
 "metadata": {
  "kernelspec": {
   "display_name": "Python 3",
   "language": "python",
   "name": "python3"
  },
  "language_info": {
   "codemirror_mode": {
    "name": "ipython",
    "version": 2
   },
   "file_extension": ".py",
   "mimetype": "text/x-python",
   "name": "python",
   "nbconvert_exporter": "python",
   "pygments_lexer": "ipython2",
   "version": "2.7.6"
  }
 },
 "nbformat": 4,
 "nbformat_minor": 5
}
